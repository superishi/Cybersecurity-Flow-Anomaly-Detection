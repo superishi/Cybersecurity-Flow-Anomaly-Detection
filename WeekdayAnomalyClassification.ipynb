{
  "nbformat": 4,
  "nbformat_minor": 0,
  "metadata": {
    "colab": {
      "name": "WeekdayAnomalyClassification.ipynb",
      "provenance": [],
      "authorship_tag": "ABX9TyO4WafY5unI4Qh+EEks+Cvq",
      "include_colab_link": true
    },
    "kernelspec": {
      "name": "python3",
      "display_name": "Python 3"
    },
    "language_info": {
      "name": "python"
    }
  },
  "cells": [
    {
      "cell_type": "markdown",
      "metadata": {
        "id": "view-in-github",
        "colab_type": "text"
      },
      "source": [
        "<a href=\"https://colab.research.google.com/github/superishi/Cybersecurity-Flow-Anomaly-Detection/blob/main/WeekdayAnomalyClassification.ipynb\" target=\"_parent\"><img src=\"https://colab.research.google.com/assets/colab-badge.svg\" alt=\"Open In Colab\"/></a>"
      ]
    },
    {
      "cell_type": "code",
      "metadata": {
        "id": "fiPBg2YJB-q9"
      },
      "source": [
        "import pandas as pd\n",
        "import numpy as np"
      ],
      "execution_count": 1,
      "outputs": []
    },
    {
      "cell_type": "code",
      "metadata": {
        "colab": {
          "base_uri": "https://localhost:8080/"
        },
        "id": "n1O2b-HKCfdn",
        "outputId": "10a9733a-367d-482d-f50e-db1df7514fc6"
      },
      "source": [
        "from google.colab import drive\n",
        "drive.mount('/content/drive')"
      ],
      "execution_count": 2,
      "outputs": [
        {
          "output_type": "stream",
          "name": "stdout",
          "text": [
            "Mounted at /content/drive\n"
          ]
        }
      ]
    },
    {
      "cell_type": "markdown",
      "metadata": {
        "id": "mRkEoQ7APFGo"
      },
      "source": [
        "### Creating extra columns to be used for filtering\n",
        "### time aggregated for every 3 hours, model focuses on 09:00 - 17:00 time period"
      ]
    },
    {
      "cell_type": "code",
      "metadata": {
        "id": "wDA2GRoXCnf9"
      },
      "source": [
        "def extract_day(time_string):\n",
        "  day_string = time_string[:10]\n",
        "  return day_string"
      ],
      "execution_count": 3,
      "outputs": []
    },
    {
      "cell_type": "code",
      "metadata": {
        "id": "dtfUw6uuE-ND"
      },
      "source": [
        "def extract_time(time_string):\n",
        "  time_string = time_string[-8:]\n",
        "  return time_string"
      ],
      "execution_count": 4,
      "outputs": []
    },
    {
      "cell_type": "code",
      "metadata": {
        "colab": {
          "base_uri": "https://localhost:8080/"
        },
        "id": "haScVaPCC1Xm",
        "outputId": "79ec5fbf-db33-4f56-eb8b-cfe8a18bb5ca"
      },
      "source": [
        "origData = pd.read_csv(\"/content/drive/MyDrive/DATA3001 Cyber/by3hours.csv\", header = 0)\n",
        "#print(origData)\n",
        "origData['edit_date'] = origData['time'] \n",
        "origData['edit_date'] = origData['edit_date'].apply(extract_day)\n",
        "\n",
        "origData['edit_time'] = origData['time']\n",
        "origData['edit_time'] = origData['edit_time'].apply(extract_time)\n",
        "\n",
        "origData = origData.drop(origData[origData.edit_date == \"2021-08-28\"].index )\n",
        "origData = origData.drop(origData[origData.edit_date == \"2021-08-29\"].index )\n",
        "origData = origData.drop(origData[origData.edit_date == \"2021-09-04\"].index )\n",
        "origData = origData.drop(origData[origData.edit_date == \"2021-09-05\"].index )\n",
        "\n",
        "remove_time_set = [\"00:00:00\", \"03:00:00\", \"06:00:00\", \"18:00:00\", \"21:00:00\"]\n",
        "\n",
        "origData = origData.drop(origData[origData.edit_time.isin(remove_time_set)].index )\n",
        "\n",
        "print(origData)"
      ],
      "execution_count": 5,
      "outputs": [
        {
          "output_type": "stream",
          "name": "stdout",
          "text": [
            "                      time   device_mac  ...   edit_date  edit_time\n",
            "0      2021-08-23 15:00:00  21:fa:27:56  ...  2021-08-23   15:00:00\n",
            "6      2021-08-24 09:00:00  21:fa:27:56  ...  2021-08-24   09:00:00\n",
            "7      2021-08-24 12:00:00  21:fa:27:56  ...  2021-08-24   12:00:00\n",
            "8      2021-08-24 15:00:00  21:fa:27:56  ...  2021-08-24   15:00:00\n",
            "14     2021-08-25 09:00:00  21:fa:27:56  ...  2021-08-25   09:00:00\n",
            "...                    ...          ...  ...         ...        ...\n",
            "85166  2021-09-03 12:00:00  ee:dd:4f:cd  ...  2021-09-03   12:00:00\n",
            "85167  2021-09-03 15:00:00  ee:dd:4f:cd  ...  2021-09-03   15:00:00\n",
            "85189  2021-09-06 09:00:00  ee:dd:4f:cd  ...  2021-09-06   09:00:00\n",
            "85190  2021-09-06 12:00:00  ee:dd:4f:cd  ...  2021-09-06   12:00:00\n",
            "85191  2021-09-06 15:00:00  ee:dd:4f:cd  ...  2021-09-06   15:00:00\n",
            "\n",
            "[23369 rows x 8 columns]\n"
          ]
        }
      ]
    },
    {
      "cell_type": "code",
      "metadata": {
        "colab": {
          "base_uri": "https://localhost:8080/",
          "height": 423
        },
        "id": "WhOK7jSCIH3Q",
        "outputId": "6c2bc49d-423e-4531-b0e1-9d8e069bb805"
      },
      "source": [
        "excluded_devices = [\"bd:1c:dc:fb\", \"ac:f2:14:98\", \"ac:f4:65:4a\", \"bd:0d:af:4f\"]\n",
        "\n",
        "origData = origData.drop(origData[origData.device_mac.isin(excluded_devices)].index )\n",
        "origData"
      ],
      "execution_count": 7,
      "outputs": [
        {
          "output_type": "execute_result",
          "data": {
            "text/html": [
              "<div>\n",
              "<style scoped>\n",
              "    .dataframe tbody tr th:only-of-type {\n",
              "        vertical-align: middle;\n",
              "    }\n",
              "\n",
              "    .dataframe tbody tr th {\n",
              "        vertical-align: top;\n",
              "    }\n",
              "\n",
              "    .dataframe thead th {\n",
              "        text-align: right;\n",
              "    }\n",
              "</style>\n",
              "<table border=\"1\" class=\"dataframe\">\n",
              "  <thead>\n",
              "    <tr style=\"text-align: right;\">\n",
              "      <th></th>\n",
              "      <th>time</th>\n",
              "      <th>device_mac</th>\n",
              "      <th>v0</th>\n",
              "      <th>v1</th>\n",
              "      <th>v2</th>\n",
              "      <th>v3</th>\n",
              "      <th>edit_date</th>\n",
              "      <th>edit_time</th>\n",
              "    </tr>\n",
              "  </thead>\n",
              "  <tbody>\n",
              "    <tr>\n",
              "      <th>0</th>\n",
              "      <td>2021-08-23 15:00:00</td>\n",
              "      <td>21:fa:27:56</td>\n",
              "      <td>0.003341</td>\n",
              "      <td>0.942904</td>\n",
              "      <td>-0.278402</td>\n",
              "      <td>-0.181698</td>\n",
              "      <td>2021-08-23</td>\n",
              "      <td>15:00:00</td>\n",
              "    </tr>\n",
              "    <tr>\n",
              "      <th>6</th>\n",
              "      <td>2021-08-24 09:00:00</td>\n",
              "      <td>21:fa:27:56</td>\n",
              "      <td>0.003341</td>\n",
              "      <td>0.942907</td>\n",
              "      <td>-0.278401</td>\n",
              "      <td>-0.181683</td>\n",
              "      <td>2021-08-24</td>\n",
              "      <td>09:00:00</td>\n",
              "    </tr>\n",
              "    <tr>\n",
              "      <th>7</th>\n",
              "      <td>2021-08-24 12:00:00</td>\n",
              "      <td>21:fa:27:56</td>\n",
              "      <td>0.003341</td>\n",
              "      <td>0.942907</td>\n",
              "      <td>-0.278401</td>\n",
              "      <td>-0.181683</td>\n",
              "      <td>2021-08-24</td>\n",
              "      <td>12:00:00</td>\n",
              "    </tr>\n",
              "    <tr>\n",
              "      <th>8</th>\n",
              "      <td>2021-08-24 15:00:00</td>\n",
              "      <td>21:fa:27:56</td>\n",
              "      <td>0.003341</td>\n",
              "      <td>0.942905</td>\n",
              "      <td>-0.278402</td>\n",
              "      <td>-0.181693</td>\n",
              "      <td>2021-08-24</td>\n",
              "      <td>15:00:00</td>\n",
              "    </tr>\n",
              "    <tr>\n",
              "      <th>14</th>\n",
              "      <td>2021-08-25 09:00:00</td>\n",
              "      <td>21:fa:27:56</td>\n",
              "      <td>0.003344</td>\n",
              "      <td>0.943003</td>\n",
              "      <td>-0.278053</td>\n",
              "      <td>-0.181722</td>\n",
              "      <td>2021-08-25</td>\n",
              "      <td>09:00:00</td>\n",
              "    </tr>\n",
              "    <tr>\n",
              "      <th>...</th>\n",
              "      <td>...</td>\n",
              "      <td>...</td>\n",
              "      <td>...</td>\n",
              "      <td>...</td>\n",
              "      <td>...</td>\n",
              "      <td>...</td>\n",
              "      <td>...</td>\n",
              "      <td>...</td>\n",
              "    </tr>\n",
              "    <tr>\n",
              "      <th>85166</th>\n",
              "      <td>2021-09-03 12:00:00</td>\n",
              "      <td>ee:dd:4f:cd</td>\n",
              "      <td>0.999938</td>\n",
              "      <td>-0.004904</td>\n",
              "      <td>-0.004676</td>\n",
              "      <td>-0.000309</td>\n",
              "      <td>2021-09-03</td>\n",
              "      <td>12:00:00</td>\n",
              "    </tr>\n",
              "    <tr>\n",
              "      <th>85167</th>\n",
              "      <td>2021-09-03 15:00:00</td>\n",
              "      <td>ee:dd:4f:cd</td>\n",
              "      <td>0.999938</td>\n",
              "      <td>-0.004904</td>\n",
              "      <td>-0.004676</td>\n",
              "      <td>-0.000309</td>\n",
              "      <td>2021-09-03</td>\n",
              "      <td>15:00:00</td>\n",
              "    </tr>\n",
              "    <tr>\n",
              "      <th>85189</th>\n",
              "      <td>2021-09-06 09:00:00</td>\n",
              "      <td>ee:dd:4f:cd</td>\n",
              "      <td>0.999952</td>\n",
              "      <td>-0.003872</td>\n",
              "      <td>-0.001447</td>\n",
              "      <td>-0.000458</td>\n",
              "      <td>2021-09-06</td>\n",
              "      <td>09:00:00</td>\n",
              "    </tr>\n",
              "    <tr>\n",
              "      <th>85190</th>\n",
              "      <td>2021-09-06 12:00:00</td>\n",
              "      <td>ee:dd:4f:cd</td>\n",
              "      <td>0.999936</td>\n",
              "      <td>-0.004898</td>\n",
              "      <td>-0.005163</td>\n",
              "      <td>-0.000095</td>\n",
              "      <td>2021-09-06</td>\n",
              "      <td>12:00:00</td>\n",
              "    </tr>\n",
              "    <tr>\n",
              "      <th>85191</th>\n",
              "      <td>2021-09-06 15:00:00</td>\n",
              "      <td>ee:dd:4f:cd</td>\n",
              "      <td>0.999939</td>\n",
              "      <td>-0.004795</td>\n",
              "      <td>-0.004678</td>\n",
              "      <td>-0.000181</td>\n",
              "      <td>2021-09-06</td>\n",
              "      <td>15:00:00</td>\n",
              "    </tr>\n",
              "  </tbody>\n",
              "</table>\n",
              "<p>23343 rows × 8 columns</p>\n",
              "</div>"
            ],
            "text/plain": [
              "                      time   device_mac  ...   edit_date  edit_time\n",
              "0      2021-08-23 15:00:00  21:fa:27:56  ...  2021-08-23   15:00:00\n",
              "6      2021-08-24 09:00:00  21:fa:27:56  ...  2021-08-24   09:00:00\n",
              "7      2021-08-24 12:00:00  21:fa:27:56  ...  2021-08-24   12:00:00\n",
              "8      2021-08-24 15:00:00  21:fa:27:56  ...  2021-08-24   15:00:00\n",
              "14     2021-08-25 09:00:00  21:fa:27:56  ...  2021-08-25   09:00:00\n",
              "...                    ...          ...  ...         ...        ...\n",
              "85166  2021-09-03 12:00:00  ee:dd:4f:cd  ...  2021-09-03   12:00:00\n",
              "85167  2021-09-03 15:00:00  ee:dd:4f:cd  ...  2021-09-03   15:00:00\n",
              "85189  2021-09-06 09:00:00  ee:dd:4f:cd  ...  2021-09-06   09:00:00\n",
              "85190  2021-09-06 12:00:00  ee:dd:4f:cd  ...  2021-09-06   12:00:00\n",
              "85191  2021-09-06 15:00:00  ee:dd:4f:cd  ...  2021-09-06   15:00:00\n",
              "\n",
              "[23343 rows x 8 columns]"
            ]
          },
          "metadata": {},
          "execution_count": 7
        }
      ]
    },
    {
      "cell_type": "code",
      "metadata": {
        "colab": {
          "base_uri": "https://localhost:8080/",
          "height": 423
        },
        "id": "FF7nYTRwC42H",
        "outputId": "d177afdc-3716-49cc-92f1-0790c83627c2"
      },
      "source": [
        "deviceLabels = pd.read_csv(\"/content/drive/MyDrive/DATA3001 Cyber/WeekdayDeviceWithClusterLabels3Hours.csv\", header = None, names = ['device_mac', 'cluster_label'])\n",
        "#deviceLabels = deviceLabels.set_index(0)\n",
        "deviceLabels"
      ],
      "execution_count": 31,
      "outputs": [
        {
          "output_type": "execute_result",
          "data": {
            "text/html": [
              "<div>\n",
              "<style scoped>\n",
              "    .dataframe tbody tr th:only-of-type {\n",
              "        vertical-align: middle;\n",
              "    }\n",
              "\n",
              "    .dataframe tbody tr th {\n",
              "        vertical-align: top;\n",
              "    }\n",
              "\n",
              "    .dataframe thead th {\n",
              "        text-align: right;\n",
              "    }\n",
              "</style>\n",
              "<table border=\"1\" class=\"dataframe\">\n",
              "  <thead>\n",
              "    <tr style=\"text-align: right;\">\n",
              "      <th></th>\n",
              "      <th>device_mac</th>\n",
              "      <th>cluster_label</th>\n",
              "    </tr>\n",
              "  </thead>\n",
              "  <tbody>\n",
              "    <tr>\n",
              "      <th>0</th>\n",
              "      <td>21:fa:27:56</td>\n",
              "      <td>2</td>\n",
              "    </tr>\n",
              "    <tr>\n",
              "      <th>1</th>\n",
              "      <td>21:fa:27:82</td>\n",
              "      <td>2</td>\n",
              "    </tr>\n",
              "    <tr>\n",
              "      <th>2</th>\n",
              "      <td>21:fa:29:50</td>\n",
              "      <td>2</td>\n",
              "    </tr>\n",
              "    <tr>\n",
              "      <th>3</th>\n",
              "      <td>21:fa:2d:cf</td>\n",
              "      <td>0</td>\n",
              "    </tr>\n",
              "    <tr>\n",
              "      <th>4</th>\n",
              "      <td>21:fa:2e:47</td>\n",
              "      <td>2</td>\n",
              "    </tr>\n",
              "    <tr>\n",
              "      <th>...</th>\n",
              "      <td>...</td>\n",
              "      <td>...</td>\n",
              "    </tr>\n",
              "    <tr>\n",
              "      <th>748</th>\n",
              "      <td>ee:dd:4e:5f</td>\n",
              "      <td>0</td>\n",
              "    </tr>\n",
              "    <tr>\n",
              "      <th>749</th>\n",
              "      <td>ee:dd:4e:60</td>\n",
              "      <td>3</td>\n",
              "    </tr>\n",
              "    <tr>\n",
              "      <th>750</th>\n",
              "      <td>ee:dd:4f:4c</td>\n",
              "      <td>0</td>\n",
              "    </tr>\n",
              "    <tr>\n",
              "      <th>751</th>\n",
              "      <td>ee:dd:4f:57</td>\n",
              "      <td>0</td>\n",
              "    </tr>\n",
              "    <tr>\n",
              "      <th>752</th>\n",
              "      <td>ee:dd:4f:cd</td>\n",
              "      <td>1</td>\n",
              "    </tr>\n",
              "  </tbody>\n",
              "</table>\n",
              "<p>753 rows × 2 columns</p>\n",
              "</div>"
            ],
            "text/plain": [
              "      device_mac  cluster_label\n",
              "0    21:fa:27:56              2\n",
              "1    21:fa:27:82              2\n",
              "2    21:fa:29:50              2\n",
              "3    21:fa:2d:cf              0\n",
              "4    21:fa:2e:47              2\n",
              "..           ...            ...\n",
              "748  ee:dd:4e:5f              0\n",
              "749  ee:dd:4e:60              3\n",
              "750  ee:dd:4f:4c              0\n",
              "751  ee:dd:4f:57              0\n",
              "752  ee:dd:4f:cd              1\n",
              "\n",
              "[753 rows x 2 columns]"
            ]
          },
          "metadata": {},
          "execution_count": 31
        }
      ]
    },
    {
      "cell_type": "markdown",
      "metadata": {
        "id": "zuRzxCxFQWIs"
      },
      "source": [
        "### Left joining tables to add cluster label column"
      ]
    },
    {
      "cell_type": "code",
      "metadata": {
        "colab": {
          "base_uri": "https://localhost:8080/"
        },
        "id": "_9fMb2beG4MH",
        "outputId": "4aacc9a5-7d56-4156-f26e-1eef938c81a5"
      },
      "source": [
        "#deviceLabels = deviceLabels.set_index('0')\n",
        "origData = origData.merge(deviceLabels, how = 'left', on = 'device_mac')\n",
        "origData.iloc[100]"
      ],
      "execution_count": 32,
      "outputs": [
        {
          "output_type": "execute_result",
          "data": {
            "text/plain": [
              "time               2021-08-26 09:00:00\n",
              "device_mac                 21:fa:2d:cf\n",
              "v0                                   0\n",
              "v1                                   0\n",
              "v2                                   0\n",
              "v3                                   0\n",
              "edit_date                   2021-08-26\n",
              "edit_time                     09:00:00\n",
              "cluster_label_x                      0\n",
              "cluster_label_y                      0\n",
              "cluster_label_x                      0\n",
              "cluster_label_y                      0\n",
              "cluster_label                        0\n",
              "Name: 100, dtype: object"
            ]
          },
          "metadata": {},
          "execution_count": 32
        }
      ]
    },
    {
      "cell_type": "code",
      "metadata": {
        "colab": {
          "base_uri": "https://localhost:8080/",
          "height": 423
        },
        "id": "_QduxNx9Tzih",
        "outputId": "327c30b7-6c56-4992-cefb-89504e590f4d"
      },
      "source": [
        "cluster_data = origData.drop(['time', 'device_mac', 'edit_date', 'edit_time', 'cluster_label_x', 'cluster_label_y'], axis = 1)\n",
        "cluster_data"
      ],
      "execution_count": 36,
      "outputs": [
        {
          "output_type": "execute_result",
          "data": {
            "text/html": [
              "<div>\n",
              "<style scoped>\n",
              "    .dataframe tbody tr th:only-of-type {\n",
              "        vertical-align: middle;\n",
              "    }\n",
              "\n",
              "    .dataframe tbody tr th {\n",
              "        vertical-align: top;\n",
              "    }\n",
              "\n",
              "    .dataframe thead th {\n",
              "        text-align: right;\n",
              "    }\n",
              "</style>\n",
              "<table border=\"1\" class=\"dataframe\">\n",
              "  <thead>\n",
              "    <tr style=\"text-align: right;\">\n",
              "      <th></th>\n",
              "      <th>v0</th>\n",
              "      <th>v1</th>\n",
              "      <th>v2</th>\n",
              "      <th>v3</th>\n",
              "      <th>cluster_label</th>\n",
              "    </tr>\n",
              "  </thead>\n",
              "  <tbody>\n",
              "    <tr>\n",
              "      <th>0</th>\n",
              "      <td>0.003341</td>\n",
              "      <td>0.942904</td>\n",
              "      <td>-0.278402</td>\n",
              "      <td>-0.181698</td>\n",
              "      <td>2</td>\n",
              "    </tr>\n",
              "    <tr>\n",
              "      <th>1</th>\n",
              "      <td>0.003341</td>\n",
              "      <td>0.942907</td>\n",
              "      <td>-0.278401</td>\n",
              "      <td>-0.181683</td>\n",
              "      <td>2</td>\n",
              "    </tr>\n",
              "    <tr>\n",
              "      <th>2</th>\n",
              "      <td>0.003341</td>\n",
              "      <td>0.942907</td>\n",
              "      <td>-0.278401</td>\n",
              "      <td>-0.181683</td>\n",
              "      <td>2</td>\n",
              "    </tr>\n",
              "    <tr>\n",
              "      <th>3</th>\n",
              "      <td>0.003341</td>\n",
              "      <td>0.942905</td>\n",
              "      <td>-0.278402</td>\n",
              "      <td>-0.181693</td>\n",
              "      <td>2</td>\n",
              "    </tr>\n",
              "    <tr>\n",
              "      <th>4</th>\n",
              "      <td>0.003344</td>\n",
              "      <td>0.943003</td>\n",
              "      <td>-0.278053</td>\n",
              "      <td>-0.181722</td>\n",
              "      <td>2</td>\n",
              "    </tr>\n",
              "    <tr>\n",
              "      <th>...</th>\n",
              "      <td>...</td>\n",
              "      <td>...</td>\n",
              "      <td>...</td>\n",
              "      <td>...</td>\n",
              "      <td>...</td>\n",
              "    </tr>\n",
              "    <tr>\n",
              "      <th>23338</th>\n",
              "      <td>0.999938</td>\n",
              "      <td>-0.004904</td>\n",
              "      <td>-0.004676</td>\n",
              "      <td>-0.000309</td>\n",
              "      <td>1</td>\n",
              "    </tr>\n",
              "    <tr>\n",
              "      <th>23339</th>\n",
              "      <td>0.999938</td>\n",
              "      <td>-0.004904</td>\n",
              "      <td>-0.004676</td>\n",
              "      <td>-0.000309</td>\n",
              "      <td>1</td>\n",
              "    </tr>\n",
              "    <tr>\n",
              "      <th>23340</th>\n",
              "      <td>0.999952</td>\n",
              "      <td>-0.003872</td>\n",
              "      <td>-0.001447</td>\n",
              "      <td>-0.000458</td>\n",
              "      <td>1</td>\n",
              "    </tr>\n",
              "    <tr>\n",
              "      <th>23341</th>\n",
              "      <td>0.999936</td>\n",
              "      <td>-0.004898</td>\n",
              "      <td>-0.005163</td>\n",
              "      <td>-0.000095</td>\n",
              "      <td>1</td>\n",
              "    </tr>\n",
              "    <tr>\n",
              "      <th>23342</th>\n",
              "      <td>0.999939</td>\n",
              "      <td>-0.004795</td>\n",
              "      <td>-0.004678</td>\n",
              "      <td>-0.000181</td>\n",
              "      <td>1</td>\n",
              "    </tr>\n",
              "  </tbody>\n",
              "</table>\n",
              "<p>23343 rows × 5 columns</p>\n",
              "</div>"
            ],
            "text/plain": [
              "             v0        v1        v2        v3  cluster_label\n",
              "0      0.003341  0.942904 -0.278402 -0.181698              2\n",
              "1      0.003341  0.942907 -0.278401 -0.181683              2\n",
              "2      0.003341  0.942907 -0.278401 -0.181683              2\n",
              "3      0.003341  0.942905 -0.278402 -0.181693              2\n",
              "4      0.003344  0.943003 -0.278053 -0.181722              2\n",
              "...         ...       ...       ...       ...            ...\n",
              "23338  0.999938 -0.004904 -0.004676 -0.000309              1\n",
              "23339  0.999938 -0.004904 -0.004676 -0.000309              1\n",
              "23340  0.999952 -0.003872 -0.001447 -0.000458              1\n",
              "23341  0.999936 -0.004898 -0.005163 -0.000095              1\n",
              "23342  0.999939 -0.004795 -0.004678 -0.000181              1\n",
              "\n",
              "[23343 rows x 5 columns]"
            ]
          },
          "metadata": {},
          "execution_count": 36
        }
      ]
    },
    {
      "cell_type": "code",
      "metadata": {
        "colab": {
          "base_uri": "https://localhost:8080/"
        },
        "id": "BTBBkmdsVcDk",
        "outputId": "4bc0a4e4-49c0-40c9-cfe4-9a693bb085e3"
      },
      "source": [
        "cluster_data_np = cluster_data.to_numpy()\n",
        "print(cluster_data_np.shape)\n",
        "x_data_points = cluster_data_np[:,:-1]\n",
        "print(x_data_points)\n",
        "y_labels = cluster_data_np[:,-1]\n",
        "print(y_labels)"
      ],
      "execution_count": 37,
      "outputs": [
        {
          "output_type": "stream",
          "name": "stdout",
          "text": [
            "(23343, 5)\n",
            "[[ 3.34081050e-03  9.42904424e-01 -2.78401617e-01 -1.81697554e-01]\n",
            " [ 3.34083192e-03  9.42907371e-01 -2.78401398e-01 -1.81682670e-01]\n",
            " [ 3.34083145e-03  9.42907304e-01 -2.78401393e-01 -1.81682912e-01]\n",
            " ...\n",
            " [ 9.99952437e-01 -3.87153356e-03 -1.44708658e-03 -4.58177364e-04]\n",
            " [ 9.99935824e-01 -4.89825150e-03 -5.16344308e-03 -9.45717623e-05]\n",
            " [ 9.99938694e-01 -4.79479178e-03 -4.67775496e-03 -1.81121297e-04]]\n",
            "[2. 2. 2. ... 1. 1. 1.]\n"
          ]
        }
      ]
    },
    {
      "cell_type": "markdown",
      "metadata": {
        "id": "qJmr3JAkRaqe"
      },
      "source": [
        "## Using K-Neighbours Classifier with imported clusters\n",
        "### data points are the 3 hour-aggregated flows"
      ]
    },
    {
      "cell_type": "code",
      "metadata": {
        "id": "j6XXFEKIWPWM"
      },
      "source": [
        "from sklearn.neighbors import KNeighborsClassifier\n",
        "from sklearn.model_selection import train_test_split"
      ],
      "execution_count": 38,
      "outputs": []
    },
    {
      "cell_type": "code",
      "metadata": {
        "colab": {
          "base_uri": "https://localhost:8080/"
        },
        "id": "M9uDTpA3YFmp",
        "outputId": "47cc5be0-e28c-480f-ba0b-2ef9aef1c0c8"
      },
      "source": [
        " X_train, X_test, y_train, y_test = train_test_split(x_data_points, y_labels, test_size=0.2, random_state=420)\n",
        " print(X_train.shape, X_test.shape, y_train.shape, y_test.shape)\n",
        " print(X_test)"
      ],
      "execution_count": 39,
      "outputs": [
        {
          "output_type": "stream",
          "name": "stdout",
          "text": [
            "(18674, 4) (4669, 4) (18674,) (4669,)\n",
            "[[ 0.00000000e+00  0.00000000e+00  0.00000000e+00  0.00000000e+00]\n",
            " [ 3.37879895e-03  9.43958852e-01 -2.74653490e-01 -1.81927578e-01]\n",
            " [ 9.85921919e-03  3.01181154e-01  9.52693635e-01 -3.81706249e-02]\n",
            " ...\n",
            " [ 9.92384471e-03  3.21656466e-01  9.45748289e-01 -4.37742705e-02]\n",
            " [ 9.99907875e-01 -5.86452810e-03 -8.50209435e-03  8.50839712e-06]\n",
            " [ 3.35954969e-03  9.43428849e-01 -2.76556046e-01 -1.81794598e-01]]\n"
          ]
        }
      ]
    },
    {
      "cell_type": "code",
      "metadata": {
        "id": "PnjMAfOAZSo7"
      },
      "source": [
        "def num_neighbors_param_test():\n",
        "  for i in range(1, 50):\n",
        "    KNmodel = KNeighborsClassifier(n_neighbors = i)\n",
        "    KNmodel.fit(X_train, y_train)\n",
        "    results = KNmodel.score(X_test, y_test)\n",
        "    print(i, \" : \", results)"
      ],
      "execution_count": 40,
      "outputs": []
    },
    {
      "cell_type": "code",
      "metadata": {
        "colab": {
          "base_uri": "https://localhost:8080/"
        },
        "id": "P9AzjGbNZo3l",
        "outputId": "d64d26e7-864e-406a-bc4f-f74b72f538f9"
      },
      "source": [
        "num_neighbors_param_test()"
      ],
      "execution_count": 43,
      "outputs": [
        {
          "output_type": "stream",
          "name": "stdout",
          "text": [
            "1  :  0.6277575497965303\n",
            "2  :  0.6373955879203256\n",
            "3  :  0.6630970229171129\n",
            "4  :  0.6626686656671664\n",
            "5  :  0.6699507389162561\n",
            "6  :  0.679160419790105\n",
            "7  :  0.6667380595416578\n",
            "8  :  0.6789462411651317\n",
            "9  :  0.6806596701649176\n",
            "10  :  0.6620261297922467\n",
            "11  :  0.6772328121653459\n",
            "12  :  0.67551938316556\n",
            "13  :  0.6761619190404797\n",
            "14  :  0.6748768472906403\n",
            "15  :  0.6774469907903191\n",
            "16  :  0.6714499892910688\n",
            "17  :  0.6731634182908546\n",
            "18  :  0.6720925251659884\n",
            "19  :  0.6731634182908546\n",
            "20  :  0.6718783465410152\n",
            "21  :  0.6718783465410152\n",
            "22  :  0.6697365602912829\n",
            "23  :  0.6712358106660955\n",
            "24  :  0.6708074534161491\n",
            "25  :  0.6705932747911758\n",
            "26  :  0.6710216320411223\n",
            "27  :  0.6697365602912829\n",
            "28  :  0.6690940244163632\n",
            "29  :  0.6697365602912829\n",
            "30  :  0.6695223816663097\n",
            "31  :  0.6699507389162561\n",
            "32  :  0.6686656671664168\n",
            "33  :  0.6695223816663097\n",
            "34  :  0.6680231312914972\n",
            "35  :  0.66887984579139\n",
            "36  :  0.6667380595416578\n",
            "37  :  0.666952238166631\n",
            "38  :  0.6665238809166845\n",
            "39  :  0.6665238809166845\n",
            "40  :  0.6675947740415507\n",
            "41  :  0.6663097022917113\n",
            "42  :  0.6671664167916042\n",
            "43  :  0.6660955236667381\n",
            "44  :  0.6639537374170058\n",
            "45  :  0.666952238166631\n",
            "46  :  0.6665238809166845\n",
            "47  :  0.6665238809166845\n",
            "48  :  0.6652388091668452\n",
            "49  :  0.6654529877918184\n"
          ]
        }
      ]
    },
    {
      "cell_type": "markdown",
      "metadata": {
        "id": "x-rhZhp5RPQ7"
      },
      "source": [
        "### 9 neighbours chosen based on hyperparameter test"
      ]
    },
    {
      "cell_type": "code",
      "metadata": {
        "colab": {
          "base_uri": "https://localhost:8080/"
        },
        "id": "y3Fu7D04WXMT",
        "outputId": "e6181bea-6578-4036-d675-51742fce710f"
      },
      "source": [
        "KNmodel = KNeighborsClassifier(n_neighbors = 9)\n",
        "KNmodel.fit(X_train, y_train)"
      ],
      "execution_count": 42,
      "outputs": [
        {
          "output_type": "execute_result",
          "data": {
            "text/plain": [
              "KNeighborsClassifier(algorithm='auto', leaf_size=30, metric='minkowski',\n",
              "                     metric_params=None, n_jobs=None, n_neighbors=9, p=2,\n",
              "                     weights='uniform')"
            ]
          },
          "metadata": {},
          "execution_count": 42
        }
      ]
    },
    {
      "cell_type": "code",
      "metadata": {
        "colab": {
          "base_uri": "https://localhost:8080/"
        },
        "id": "iYc74qCRYjKZ",
        "outputId": "033381bb-725a-4420-b7b2-cd504859cb24"
      },
      "source": [
        "results = KNmodel.score(X_train, y_train)\n",
        "results"
      ],
      "execution_count": 44,
      "outputs": [
        {
          "output_type": "execute_result",
          "data": {
            "text/plain": [
              "0.7246438899003963"
            ]
          },
          "metadata": {},
          "execution_count": 44
        }
      ]
    },
    {
      "cell_type": "code",
      "metadata": {
        "colab": {
          "base_uri": "https://localhost:8080/"
        },
        "id": "eeuL_2nTe60c",
        "outputId": "730f1011-838f-4eac-abf5-d54e797647b3"
      },
      "source": [
        "res1 = KNmodel.predict(X_train)\n",
        "res1"
      ],
      "execution_count": 45,
      "outputs": [
        {
          "output_type": "execute_result",
          "data": {
            "text/plain": [
              "array([0., 0., 2., ..., 2., 3., 2.])"
            ]
          },
          "metadata": {},
          "execution_count": 45
        }
      ]
    },
    {
      "cell_type": "code",
      "metadata": {
        "colab": {
          "base_uri": "https://localhost:8080/"
        },
        "id": "A0Febt41bEqa",
        "outputId": "0bf32d22-e743-46c6-c6ff-f29c69595cc0"
      },
      "source": [
        "res2 = KNmodel.predict_proba(X_test)\n",
        "res2.shape"
      ],
      "execution_count": 46,
      "outputs": [
        {
          "output_type": "execute_result",
          "data": {
            "text/plain": [
              "(4669, 4)"
            ]
          },
          "metadata": {},
          "execution_count": 46
        }
      ]
    },
    {
      "cell_type": "markdown",
      "metadata": {
        "id": "vooQe-X8SdQ-"
      },
      "source": [
        "### Get probability that data point belongs to its actual cluster according to model\n",
        "\n",
        "### if probability is less than 10%, flag as potential anomaly"
      ]
    },
    {
      "cell_type": "code",
      "metadata": {
        "id": "rWHPbyigfPO5"
      },
      "source": [
        "prob_of_correct = np.ones((4669,1))\n",
        "\n",
        "for i in range(4669):\n",
        "  correct_cluster = int(y_test[i])\n",
        "  prob_of_correct[i] = res2[i, correct_cluster]"
      ],
      "execution_count": 49,
      "outputs": []
    },
    {
      "cell_type": "code",
      "metadata": {
        "colab": {
          "base_uri": "https://localhost:8080/"
        },
        "id": "JaCsNRjwgShe",
        "outputId": "9b9b9c17-a46a-4699-ad08-84b6e80f7c2d"
      },
      "source": [
        "print(prob_of_correct.shape[0])\n",
        "total = prob_of_correct.shape[0]\n",
        "print(prob_of_correct[prob_of_correct > 0.1].shape[0])\n",
        "condition = prob_of_correct[prob_of_correct > 0.10].shape[0]\n",
        "\n",
        "print(condition/total)"
      ],
      "execution_count": 52,
      "outputs": [
        {
          "output_type": "stream",
          "name": "stdout",
          "text": [
            "4669\n",
            "4358\n",
            "0.9333904476333262\n"
          ]
        }
      ]
    }
  ]
}