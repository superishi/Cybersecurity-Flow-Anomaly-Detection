{
  "nbformat": 4,
  "nbformat_minor": 0,
  "metadata": {
    "colab": {
      "name": "WeekendAnomalyClassification.ipynb",
      "provenance": [],
      "authorship_tag": "ABX9TyODDjJMTgvGD5Y1KQVN5Exo",
      "include_colab_link": true
    },
    "kernelspec": {
      "name": "python3",
      "display_name": "Python 3"
    },
    "language_info": {
      "name": "python"
    }
  },
  "cells": [
    {
      "cell_type": "markdown",
      "metadata": {
        "id": "view-in-github",
        "colab_type": "text"
      },
      "source": [
        "<a href=\"https://colab.research.google.com/github/superishi/Cybersecurity-Flow-Anomaly-Detection/blob/main/WeekendAnomalyClassification.ipynb\" target=\"_parent\"><img src=\"https://colab.research.google.com/assets/colab-badge.svg\" alt=\"Open In Colab\"/></a>"
      ]
    },
    {
      "cell_type": "code",
      "metadata": {
        "id": "fiPBg2YJB-q9"
      },
      "source": [
        "import pandas as pd\n",
        "import numpy as np"
      ],
      "execution_count": 1,
      "outputs": []
    },
    {
      "cell_type": "code",
      "metadata": {
        "colab": {
          "base_uri": "https://localhost:8080/"
        },
        "id": "n1O2b-HKCfdn",
        "outputId": "e3562632-ad67-4bc2-e493-4a6f2efe0719"
      },
      "source": [
        "from google.colab import drive\n",
        "drive.mount('/content/drive')"
      ],
      "execution_count": 2,
      "outputs": [
        {
          "output_type": "stream",
          "name": "stdout",
          "text": [
            "Mounted at /content/drive\n"
          ]
        }
      ]
    },
    {
      "cell_type": "markdown",
      "metadata": {
        "id": "mRkEoQ7APFGo"
      },
      "source": [
        "### Creating extra columns to be used for filtering\n",
        "### time aggregated for every 3 hours, model focuses on 09:00 - 17:00 time period"
      ]
    },
    {
      "cell_type": "code",
      "metadata": {
        "id": "wDA2GRoXCnf9"
      },
      "source": [
        "def extract_day(time_string):\n",
        "  day_string = time_string[:10]\n",
        "  return day_string"
      ],
      "execution_count": 3,
      "outputs": []
    },
    {
      "cell_type": "code",
      "metadata": {
        "id": "dtfUw6uuE-ND"
      },
      "source": [
        "def extract_time(time_string):\n",
        "  time_string = time_string[-8:]\n",
        "  return time_string"
      ],
      "execution_count": 4,
      "outputs": []
    },
    {
      "cell_type": "code",
      "metadata": {
        "colab": {
          "base_uri": "https://localhost:8080/"
        },
        "id": "haScVaPCC1Xm",
        "outputId": "a0576ec6-c8ad-421f-845f-d58a7f1d6ee9"
      },
      "source": [
        "origData = pd.read_csv(\"/content/drive/MyDrive/DATA3001 Cyber/by3hours.csv\", header = 0)\n",
        "#print(origData)\n",
        "origData['edit_date'] = origData['time'] \n",
        "origData['edit_date'] = origData['edit_date'].apply(extract_day)\n",
        "\n",
        "origData['edit_time'] = origData['time']\n",
        "origData['edit_time'] = origData['edit_time'].apply(extract_time)\n",
        "\n",
        "weekends = [\"2021-08-28\", \"2021-08-29\", \"2021-09-04\", \"2021-09-05\"]\n",
        "\n",
        "origData = origData.drop(origData[~origData.edit_date.isin(weekends)].index )\n",
        "\n",
        "\n",
        "remove_time_set = [\"00:00:00\", \"03:00:00\", \"06:00:00\", \"18:00:00\", \"21:00:00\"]\n",
        "\n",
        "origData = origData.drop(origData[origData.edit_time.isin(remove_time_set)].index )\n",
        "\n",
        "print(origData)"
      ],
      "execution_count": 7,
      "outputs": [
        {
          "output_type": "stream",
          "name": "stdout",
          "text": [
            "                      time   device_mac  ...   edit_date  edit_time\n",
            "38     2021-08-28 09:00:00  21:fa:27:56  ...  2021-08-28   09:00:00\n",
            "39     2021-08-28 12:00:00  21:fa:27:56  ...  2021-08-28   12:00:00\n",
            "40     2021-08-28 15:00:00  21:fa:27:56  ...  2021-08-28   15:00:00\n",
            "46     2021-08-29 09:00:00  21:fa:27:56  ...  2021-08-29   09:00:00\n",
            "47     2021-08-29 12:00:00  21:fa:27:56  ...  2021-08-29   12:00:00\n",
            "...                    ...          ...  ...         ...        ...\n",
            "85174  2021-09-04 12:00:00  ee:dd:4f:cd  ...  2021-09-04   12:00:00\n",
            "85175  2021-09-04 15:00:00  ee:dd:4f:cd  ...  2021-09-04   15:00:00\n",
            "85181  2021-09-05 09:00:00  ee:dd:4f:cd  ...  2021-09-05   09:00:00\n",
            "85182  2021-09-05 12:00:00  ee:dd:4f:cd  ...  2021-09-05   12:00:00\n",
            "85183  2021-09-05 15:00:00  ee:dd:4f:cd  ...  2021-09-05   15:00:00\n",
            "\n",
            "[9048 rows x 8 columns]\n"
          ]
        }
      ]
    },
    {
      "cell_type": "code",
      "metadata": {
        "colab": {
          "base_uri": "https://localhost:8080/",
          "height": 423
        },
        "id": "WhOK7jSCIH3Q",
        "outputId": "bf02b458-b53a-4e7e-9439-76273c39c45d"
      },
      "source": [
        "excluded_devices = [\"bd:1c:dc:fb\", \"ac:f2:14:98\", \"ac:f4:65:4a\", \"bd:0d:af:4f\"]\n",
        "\n",
        "origData = origData.drop(origData[origData.device_mac.isin(excluded_devices)].index )\n",
        "origData"
      ],
      "execution_count": 8,
      "outputs": [
        {
          "output_type": "execute_result",
          "data": {
            "text/html": [
              "<div>\n",
              "<style scoped>\n",
              "    .dataframe tbody tr th:only-of-type {\n",
              "        vertical-align: middle;\n",
              "    }\n",
              "\n",
              "    .dataframe tbody tr th {\n",
              "        vertical-align: top;\n",
              "    }\n",
              "\n",
              "    .dataframe thead th {\n",
              "        text-align: right;\n",
              "    }\n",
              "</style>\n",
              "<table border=\"1\" class=\"dataframe\">\n",
              "  <thead>\n",
              "    <tr style=\"text-align: right;\">\n",
              "      <th></th>\n",
              "      <th>time</th>\n",
              "      <th>device_mac</th>\n",
              "      <th>v0</th>\n",
              "      <th>v1</th>\n",
              "      <th>v2</th>\n",
              "      <th>v3</th>\n",
              "      <th>edit_date</th>\n",
              "      <th>edit_time</th>\n",
              "    </tr>\n",
              "  </thead>\n",
              "  <tbody>\n",
              "    <tr>\n",
              "      <th>38</th>\n",
              "      <td>2021-08-28 09:00:00</td>\n",
              "      <td>21:fa:27:56</td>\n",
              "      <td>0.003342</td>\n",
              "      <td>0.942944</td>\n",
              "      <td>-0.278260</td>\n",
              "      <td>-0.181708</td>\n",
              "      <td>2021-08-28</td>\n",
              "      <td>09:00:00</td>\n",
              "    </tr>\n",
              "    <tr>\n",
              "      <th>39</th>\n",
              "      <td>2021-08-28 12:00:00</td>\n",
              "      <td>21:fa:27:56</td>\n",
              "      <td>0.003343</td>\n",
              "      <td>0.942954</td>\n",
              "      <td>-0.278225</td>\n",
              "      <td>-0.181710</td>\n",
              "      <td>2021-08-28</td>\n",
              "      <td>12:00:00</td>\n",
              "    </tr>\n",
              "    <tr>\n",
              "      <th>40</th>\n",
              "      <td>2021-08-28 15:00:00</td>\n",
              "      <td>21:fa:27:56</td>\n",
              "      <td>0.003342</td>\n",
              "      <td>0.942945</td>\n",
              "      <td>-0.278258</td>\n",
              "      <td>-0.181708</td>\n",
              "      <td>2021-08-28</td>\n",
              "      <td>15:00:00</td>\n",
              "    </tr>\n",
              "    <tr>\n",
              "      <th>46</th>\n",
              "      <td>2021-08-29 09:00:00</td>\n",
              "      <td>21:fa:27:56</td>\n",
              "      <td>0.003342</td>\n",
              "      <td>0.942944</td>\n",
              "      <td>-0.278260</td>\n",
              "      <td>-0.181708</td>\n",
              "      <td>2021-08-29</td>\n",
              "      <td>09:00:00</td>\n",
              "    </tr>\n",
              "    <tr>\n",
              "      <th>47</th>\n",
              "      <td>2021-08-29 12:00:00</td>\n",
              "      <td>21:fa:27:56</td>\n",
              "      <td>0.003342</td>\n",
              "      <td>0.942945</td>\n",
              "      <td>-0.278257</td>\n",
              "      <td>-0.181708</td>\n",
              "      <td>2021-08-29</td>\n",
              "      <td>12:00:00</td>\n",
              "    </tr>\n",
              "    <tr>\n",
              "      <th>...</th>\n",
              "      <td>...</td>\n",
              "      <td>...</td>\n",
              "      <td>...</td>\n",
              "      <td>...</td>\n",
              "      <td>...</td>\n",
              "      <td>...</td>\n",
              "      <td>...</td>\n",
              "      <td>...</td>\n",
              "    </tr>\n",
              "    <tr>\n",
              "      <th>85174</th>\n",
              "      <td>2021-09-04 12:00:00</td>\n",
              "      <td>ee:dd:4f:cd</td>\n",
              "      <td>0.999938</td>\n",
              "      <td>-0.004904</td>\n",
              "      <td>-0.004678</td>\n",
              "      <td>-0.000309</td>\n",
              "      <td>2021-09-04</td>\n",
              "      <td>12:00:00</td>\n",
              "    </tr>\n",
              "    <tr>\n",
              "      <th>85175</th>\n",
              "      <td>2021-09-04 15:00:00</td>\n",
              "      <td>ee:dd:4f:cd</td>\n",
              "      <td>0.000000</td>\n",
              "      <td>0.000000</td>\n",
              "      <td>0.000000</td>\n",
              "      <td>0.000000</td>\n",
              "      <td>2021-09-04</td>\n",
              "      <td>15:00:00</td>\n",
              "    </tr>\n",
              "    <tr>\n",
              "      <th>85181</th>\n",
              "      <td>2021-09-05 09:00:00</td>\n",
              "      <td>ee:dd:4f:cd</td>\n",
              "      <td>0.999938</td>\n",
              "      <td>-0.004904</td>\n",
              "      <td>-0.004679</td>\n",
              "      <td>-0.000309</td>\n",
              "      <td>2021-09-05</td>\n",
              "      <td>09:00:00</td>\n",
              "    </tr>\n",
              "    <tr>\n",
              "      <th>85182</th>\n",
              "      <td>2021-09-05 12:00:00</td>\n",
              "      <td>ee:dd:4f:cd</td>\n",
              "      <td>0.999938</td>\n",
              "      <td>-0.004904</td>\n",
              "      <td>-0.004680</td>\n",
              "      <td>-0.000309</td>\n",
              "      <td>2021-09-05</td>\n",
              "      <td>12:00:00</td>\n",
              "    </tr>\n",
              "    <tr>\n",
              "      <th>85183</th>\n",
              "      <td>2021-09-05 15:00:00</td>\n",
              "      <td>ee:dd:4f:cd</td>\n",
              "      <td>0.999938</td>\n",
              "      <td>-0.004905</td>\n",
              "      <td>-0.004682</td>\n",
              "      <td>-0.000309</td>\n",
              "      <td>2021-09-05</td>\n",
              "      <td>15:00:00</td>\n",
              "    </tr>\n",
              "  </tbody>\n",
              "</table>\n",
              "<p>9036 rows × 8 columns</p>\n",
              "</div>"
            ],
            "text/plain": [
              "                      time   device_mac  ...   edit_date  edit_time\n",
              "38     2021-08-28 09:00:00  21:fa:27:56  ...  2021-08-28   09:00:00\n",
              "39     2021-08-28 12:00:00  21:fa:27:56  ...  2021-08-28   12:00:00\n",
              "40     2021-08-28 15:00:00  21:fa:27:56  ...  2021-08-28   15:00:00\n",
              "46     2021-08-29 09:00:00  21:fa:27:56  ...  2021-08-29   09:00:00\n",
              "47     2021-08-29 12:00:00  21:fa:27:56  ...  2021-08-29   12:00:00\n",
              "...                    ...          ...  ...         ...        ...\n",
              "85174  2021-09-04 12:00:00  ee:dd:4f:cd  ...  2021-09-04   12:00:00\n",
              "85175  2021-09-04 15:00:00  ee:dd:4f:cd  ...  2021-09-04   15:00:00\n",
              "85181  2021-09-05 09:00:00  ee:dd:4f:cd  ...  2021-09-05   09:00:00\n",
              "85182  2021-09-05 12:00:00  ee:dd:4f:cd  ...  2021-09-05   12:00:00\n",
              "85183  2021-09-05 15:00:00  ee:dd:4f:cd  ...  2021-09-05   15:00:00\n",
              "\n",
              "[9036 rows x 8 columns]"
            ]
          },
          "metadata": {},
          "execution_count": 8
        }
      ]
    },
    {
      "cell_type": "code",
      "metadata": {
        "colab": {
          "base_uri": "https://localhost:8080/",
          "height": 423
        },
        "id": "FF7nYTRwC42H",
        "outputId": "aa96a808-20ce-41c9-d888-c3604cd5b826"
      },
      "source": [
        "deviceLabels = pd.read_csv(\"/content/drive/MyDrive/DATA3001 Cyber/WeekendDeviceWithClusterLabelsHourly.csv\", header = None, names = ['device_mac', 'cluster_label'])\n",
        "#deviceLabels = deviceLabels.set_index(0)\n",
        "deviceLabels"
      ],
      "execution_count": 20,
      "outputs": [
        {
          "output_type": "execute_result",
          "data": {
            "text/html": [
              "<div>\n",
              "<style scoped>\n",
              "    .dataframe tbody tr th:only-of-type {\n",
              "        vertical-align: middle;\n",
              "    }\n",
              "\n",
              "    .dataframe tbody tr th {\n",
              "        vertical-align: top;\n",
              "    }\n",
              "\n",
              "    .dataframe thead th {\n",
              "        text-align: right;\n",
              "    }\n",
              "</style>\n",
              "<table border=\"1\" class=\"dataframe\">\n",
              "  <thead>\n",
              "    <tr style=\"text-align: right;\">\n",
              "      <th></th>\n",
              "      <th>device_mac</th>\n",
              "      <th>cluster_label</th>\n",
              "    </tr>\n",
              "  </thead>\n",
              "  <tbody>\n",
              "    <tr>\n",
              "      <th>0</th>\n",
              "      <td>21:fa:27:56</td>\n",
              "      <td>0</td>\n",
              "    </tr>\n",
              "    <tr>\n",
              "      <th>1</th>\n",
              "      <td>21:fa:27:82</td>\n",
              "      <td>0</td>\n",
              "    </tr>\n",
              "    <tr>\n",
              "      <th>2</th>\n",
              "      <td>21:fa:29:50</td>\n",
              "      <td>0</td>\n",
              "    </tr>\n",
              "    <tr>\n",
              "      <th>3</th>\n",
              "      <td>21:fa:2d:cf</td>\n",
              "      <td>3</td>\n",
              "    </tr>\n",
              "    <tr>\n",
              "      <th>4</th>\n",
              "      <td>21:fa:2e:47</td>\n",
              "      <td>0</td>\n",
              "    </tr>\n",
              "    <tr>\n",
              "      <th>...</th>\n",
              "      <td>...</td>\n",
              "      <td>...</td>\n",
              "    </tr>\n",
              "    <tr>\n",
              "      <th>748</th>\n",
              "      <td>ee:dd:4e:5f</td>\n",
              "      <td>3</td>\n",
              "    </tr>\n",
              "    <tr>\n",
              "      <th>749</th>\n",
              "      <td>ee:dd:4e:60</td>\n",
              "      <td>4</td>\n",
              "    </tr>\n",
              "    <tr>\n",
              "      <th>750</th>\n",
              "      <td>ee:dd:4f:4c</td>\n",
              "      <td>3</td>\n",
              "    </tr>\n",
              "    <tr>\n",
              "      <th>751</th>\n",
              "      <td>ee:dd:4f:57</td>\n",
              "      <td>3</td>\n",
              "    </tr>\n",
              "    <tr>\n",
              "      <th>752</th>\n",
              "      <td>ee:dd:4f:cd</td>\n",
              "      <td>1</td>\n",
              "    </tr>\n",
              "  </tbody>\n",
              "</table>\n",
              "<p>753 rows × 2 columns</p>\n",
              "</div>"
            ],
            "text/plain": [
              "      device_mac  cluster_label\n",
              "0    21:fa:27:56              0\n",
              "1    21:fa:27:82              0\n",
              "2    21:fa:29:50              0\n",
              "3    21:fa:2d:cf              3\n",
              "4    21:fa:2e:47              0\n",
              "..           ...            ...\n",
              "748  ee:dd:4e:5f              3\n",
              "749  ee:dd:4e:60              4\n",
              "750  ee:dd:4f:4c              3\n",
              "751  ee:dd:4f:57              3\n",
              "752  ee:dd:4f:cd              1\n",
              "\n",
              "[753 rows x 2 columns]"
            ]
          },
          "metadata": {},
          "execution_count": 20
        }
      ]
    },
    {
      "cell_type": "markdown",
      "metadata": {
        "id": "zuRzxCxFQWIs"
      },
      "source": [
        "### Left joining tables to add cluster label column"
      ]
    },
    {
      "cell_type": "code",
      "metadata": {
        "colab": {
          "base_uri": "https://localhost:8080/"
        },
        "id": "_9fMb2beG4MH",
        "outputId": "b4d31067-48db-4f03-f118-1efd1e5b8837"
      },
      "source": [
        "#deviceLabels = deviceLabels.set_index('0')\n",
        "origData = origData.merge(deviceLabels, how = 'left', on = 'device_mac')\n",
        "origData.iloc[100]"
      ],
      "execution_count": 32,
      "outputs": [
        {
          "output_type": "execute_result",
          "data": {
            "text/plain": [
              "time               2021-08-29 12:00:00\n",
              "device_mac                 21:fa:37:f2\n",
              "v0                         0.000178537\n",
              "v1                            0.021779\n",
              "v2                           0.0102947\n",
              "v3                             0.20365\n",
              "edit_date                   2021-08-29\n",
              "edit_time                     12:00:00\n",
              "cluster_label_x                      3\n",
              "cluster_label_y                      3\n",
              "cluster_label_x                      3\n",
              "cluster_label_y                      3\n",
              "cluster_label_x                      3\n",
              "cluster_label_y                      3\n",
              "cluster_label_x                      3\n",
              "cluster_label_x                      3\n",
              "cluster_label_y                      3\n",
              "cluster_label                        3\n",
              "Name: 100, dtype: object"
            ]
          },
          "metadata": {},
          "execution_count": 32
        }
      ]
    },
    {
      "cell_type": "code",
      "metadata": {
        "colab": {
          "base_uri": "https://localhost:8080/",
          "height": 423
        },
        "id": "_QduxNx9Tzih",
        "outputId": "6f696768-d82b-444a-bcf6-6d685409278d"
      },
      "source": [
        "cluster_data = origData.drop(['time', 'device_mac', 'edit_date', 'edit_time', 'cluster_label_x', 'cluster_label_y'], axis = 1)\n",
        "cluster_data"
      ],
      "execution_count": 33,
      "outputs": [
        {
          "output_type": "execute_result",
          "data": {
            "text/html": [
              "<div>\n",
              "<style scoped>\n",
              "    .dataframe tbody tr th:only-of-type {\n",
              "        vertical-align: middle;\n",
              "    }\n",
              "\n",
              "    .dataframe tbody tr th {\n",
              "        vertical-align: top;\n",
              "    }\n",
              "\n",
              "    .dataframe thead th {\n",
              "        text-align: right;\n",
              "    }\n",
              "</style>\n",
              "<table border=\"1\" class=\"dataframe\">\n",
              "  <thead>\n",
              "    <tr style=\"text-align: right;\">\n",
              "      <th></th>\n",
              "      <th>v0</th>\n",
              "      <th>v1</th>\n",
              "      <th>v2</th>\n",
              "      <th>v3</th>\n",
              "      <th>cluster_label</th>\n",
              "    </tr>\n",
              "  </thead>\n",
              "  <tbody>\n",
              "    <tr>\n",
              "      <th>0</th>\n",
              "      <td>0.003342</td>\n",
              "      <td>0.942944</td>\n",
              "      <td>-0.278260</td>\n",
              "      <td>-0.181708</td>\n",
              "      <td>0</td>\n",
              "    </tr>\n",
              "    <tr>\n",
              "      <th>1</th>\n",
              "      <td>0.003343</td>\n",
              "      <td>0.942954</td>\n",
              "      <td>-0.278225</td>\n",
              "      <td>-0.181710</td>\n",
              "      <td>0</td>\n",
              "    </tr>\n",
              "    <tr>\n",
              "      <th>2</th>\n",
              "      <td>0.003342</td>\n",
              "      <td>0.942945</td>\n",
              "      <td>-0.278258</td>\n",
              "      <td>-0.181708</td>\n",
              "      <td>0</td>\n",
              "    </tr>\n",
              "    <tr>\n",
              "      <th>3</th>\n",
              "      <td>0.003342</td>\n",
              "      <td>0.942944</td>\n",
              "      <td>-0.278260</td>\n",
              "      <td>-0.181708</td>\n",
              "      <td>0</td>\n",
              "    </tr>\n",
              "    <tr>\n",
              "      <th>4</th>\n",
              "      <td>0.003342</td>\n",
              "      <td>0.942945</td>\n",
              "      <td>-0.278257</td>\n",
              "      <td>-0.181708</td>\n",
              "      <td>0</td>\n",
              "    </tr>\n",
              "    <tr>\n",
              "      <th>...</th>\n",
              "      <td>...</td>\n",
              "      <td>...</td>\n",
              "      <td>...</td>\n",
              "      <td>...</td>\n",
              "      <td>...</td>\n",
              "    </tr>\n",
              "    <tr>\n",
              "      <th>9031</th>\n",
              "      <td>0.999938</td>\n",
              "      <td>-0.004904</td>\n",
              "      <td>-0.004678</td>\n",
              "      <td>-0.000309</td>\n",
              "      <td>1</td>\n",
              "    </tr>\n",
              "    <tr>\n",
              "      <th>9032</th>\n",
              "      <td>0.000000</td>\n",
              "      <td>0.000000</td>\n",
              "      <td>0.000000</td>\n",
              "      <td>0.000000</td>\n",
              "      <td>1</td>\n",
              "    </tr>\n",
              "    <tr>\n",
              "      <th>9033</th>\n",
              "      <td>0.999938</td>\n",
              "      <td>-0.004904</td>\n",
              "      <td>-0.004679</td>\n",
              "      <td>-0.000309</td>\n",
              "      <td>1</td>\n",
              "    </tr>\n",
              "    <tr>\n",
              "      <th>9034</th>\n",
              "      <td>0.999938</td>\n",
              "      <td>-0.004904</td>\n",
              "      <td>-0.004680</td>\n",
              "      <td>-0.000309</td>\n",
              "      <td>1</td>\n",
              "    </tr>\n",
              "    <tr>\n",
              "      <th>9035</th>\n",
              "      <td>0.999938</td>\n",
              "      <td>-0.004905</td>\n",
              "      <td>-0.004682</td>\n",
              "      <td>-0.000309</td>\n",
              "      <td>1</td>\n",
              "    </tr>\n",
              "  </tbody>\n",
              "</table>\n",
              "<p>9036 rows × 5 columns</p>\n",
              "</div>"
            ],
            "text/plain": [
              "            v0        v1        v2        v3  cluster_label\n",
              "0     0.003342  0.942944 -0.278260 -0.181708              0\n",
              "1     0.003343  0.942954 -0.278225 -0.181710              0\n",
              "2     0.003342  0.942945 -0.278258 -0.181708              0\n",
              "3     0.003342  0.942944 -0.278260 -0.181708              0\n",
              "4     0.003342  0.942945 -0.278257 -0.181708              0\n",
              "...        ...       ...       ...       ...            ...\n",
              "9031  0.999938 -0.004904 -0.004678 -0.000309              1\n",
              "9032  0.000000  0.000000  0.000000  0.000000              1\n",
              "9033  0.999938 -0.004904 -0.004679 -0.000309              1\n",
              "9034  0.999938 -0.004904 -0.004680 -0.000309              1\n",
              "9035  0.999938 -0.004905 -0.004682 -0.000309              1\n",
              "\n",
              "[9036 rows x 5 columns]"
            ]
          },
          "metadata": {},
          "execution_count": 33
        }
      ]
    },
    {
      "cell_type": "code",
      "metadata": {
        "colab": {
          "base_uri": "https://localhost:8080/"
        },
        "id": "BTBBkmdsVcDk",
        "outputId": "c16abb77-5e4b-42bb-e08b-5a77235629ef"
      },
      "source": [
        "cluster_data_np = cluster_data.to_numpy()\n",
        "print(cluster_data_np.shape)\n",
        "x_data_points = cluster_data_np[:,:-1]\n",
        "print(x_data_points)\n",
        "y_labels = cluster_data_np[:,-1]\n",
        "print(y_labels)"
      ],
      "execution_count": 34,
      "outputs": [
        {
          "output_type": "stream",
          "name": "stdout",
          "text": [
            "(9036, 5)\n",
            "[[ 3.34224347e-03  9.42944236e-01 -2.78260241e-01 -1.81707519e-01]\n",
            " [ 3.34259964e-03  9.42954119e-01 -2.78225092e-01 -1.81710057e-01]\n",
            " [ 3.34227101e-03  9.42944987e-01 -2.78257512e-01 -1.81707784e-01]\n",
            " ...\n",
            " [ 9.99938123e-01 -4.90417227e-03 -4.67948230e-03 -3.09096646e-04]\n",
            " [ 9.99938119e-01 -4.90435397e-03 -4.68013522e-03 -3.08931715e-04]\n",
            " [ 9.99938106e-01 -4.90498973e-03 -4.68227357e-03 -3.08999222e-04]]\n",
            "[0. 0. 0. ... 1. 1. 1.]\n"
          ]
        }
      ]
    },
    {
      "cell_type": "markdown",
      "metadata": {
        "id": "qJmr3JAkRaqe"
      },
      "source": [
        "## Using K-Neighbours Classifier with imported clusters\n",
        "### data points are the 3 hour-aggregated flows"
      ]
    },
    {
      "cell_type": "code",
      "metadata": {
        "id": "j6XXFEKIWPWM"
      },
      "source": [
        "from sklearn.neighbors import KNeighborsClassifier\n",
        "from sklearn.model_selection import train_test_split"
      ],
      "execution_count": 35,
      "outputs": []
    },
    {
      "cell_type": "code",
      "metadata": {
        "colab": {
          "base_uri": "https://localhost:8080/"
        },
        "id": "M9uDTpA3YFmp",
        "outputId": "81a42c5c-0642-4ff8-d2a5-b388b16e5572"
      },
      "source": [
        " X_train, X_test, y_train, y_test = train_test_split(x_data_points, y_labels, test_size=0.2, random_state=420)\n",
        " print(X_train.shape, X_test.shape, y_train.shape, y_test.shape)\n",
        " print(X_test)"
      ],
      "execution_count": 36,
      "outputs": [
        {
          "output_type": "stream",
          "name": "stdout",
          "text": [
            "(7228, 4) (1808, 4) (7228,) (1808,)\n",
            "[[ 3.34086351e-03  9.42911715e-01 -2.78401054e-01 -1.81660480e-01]\n",
            " [ 9.99953857e-01 -3.68126222e-03 -8.42488765e-04 -4.13845219e-04]\n",
            " [ 3.34085833e-03  9.42911026e-01 -2.78401181e-01 -1.81664771e-01]\n",
            " ...\n",
            " [ 3.35557534e-03  9.43313148e-01 -2.76943818e-01 -1.81803983e-01]\n",
            " [ 9.99907552e-01 -5.95988584e-03 -8.47409513e-03  2.49393843e-05]\n",
            " [ 3.35652142e-03  9.43339288e-01 -2.76850371e-01 -1.81810618e-01]]\n"
          ]
        }
      ]
    },
    {
      "cell_type": "code",
      "metadata": {
        "id": "PnjMAfOAZSo7"
      },
      "source": [
        "def num_neighbors_param_test():\n",
        "  for i in range(1, 50):\n",
        "    KNmodel = KNeighborsClassifier(n_neighbors = i)\n",
        "    KNmodel.fit(X_train, y_train)\n",
        "    results = KNmodel.score(X_test, y_test)\n",
        "    print(i, \" : \", results)"
      ],
      "execution_count": 37,
      "outputs": []
    },
    {
      "cell_type": "code",
      "metadata": {
        "colab": {
          "base_uri": "https://localhost:8080/"
        },
        "id": "P9AzjGbNZo3l",
        "outputId": "28168acb-2511-4d55-fe99-33119e47d5fd"
      },
      "source": [
        "num_neighbors_param_test()"
      ],
      "execution_count": 38,
      "outputs": [
        {
          "output_type": "stream",
          "name": "stdout",
          "text": [
            "1  :  0.5287610619469026\n",
            "2  :  0.5564159292035398\n",
            "3  :  0.5630530973451328\n",
            "4  :  0.5663716814159292\n",
            "5  :  0.5691371681415929\n",
            "6  :  0.5741150442477876\n",
            "7  :  0.5768805309734514\n",
            "8  :  0.5862831858407079\n",
            "9  :  0.5846238938053098\n",
            "10  :  0.5912610619469026\n",
            "11  :  0.5929203539823009\n",
            "12  :  0.5951327433628318\n",
            "13  :  0.599004424778761\n",
            "14  :  0.6039823008849557\n",
            "15  :  0.603429203539823\n",
            "16  :  0.6012168141592921\n",
            "17  :  0.6012168141592921\n",
            "18  :  0.599004424778761\n",
            "19  :  0.5923672566371682\n",
            "20  :  0.5978982300884956\n",
            "21  :  0.599004424778761\n",
            "22  :  0.6006637168141593\n",
            "23  :  0.5973451327433629\n",
            "24  :  0.6023230088495575\n",
            "25  :  0.5984513274336283\n",
            "26  :  0.6012168141592921\n",
            "27  :  0.5962389380530974\n",
            "28  :  0.5940265486725663\n",
            "29  :  0.5951327433628318\n",
            "30  :  0.6017699115044248\n",
            "31  :  0.5984513274336283\n",
            "32  :  0.5984513274336283\n",
            "33  :  0.599004424778761\n",
            "34  :  0.5978982300884956\n",
            "35  :  0.5962389380530974\n",
            "36  :  0.6017699115044248\n",
            "37  :  0.5984513274336283\n",
            "38  :  0.5973451327433629\n",
            "39  :  0.5984513274336283\n",
            "40  :  0.5984513274336283\n",
            "41  :  0.6023230088495575\n",
            "42  :  0.6006637168141593\n",
            "43  :  0.5967920353982301\n",
            "44  :  0.599004424778761\n",
            "45  :  0.599004424778761\n",
            "46  :  0.6006637168141593\n",
            "47  :  0.6017699115044248\n",
            "48  :  0.6023230088495575\n",
            "49  :  0.6023230088495575\n"
          ]
        }
      ]
    },
    {
      "cell_type": "markdown",
      "metadata": {
        "id": "x-rhZhp5RPQ7"
      },
      "source": [
        "### 9 neighbours chosen based on hyperparameter test"
      ]
    },
    {
      "cell_type": "code",
      "metadata": {
        "colab": {
          "base_uri": "https://localhost:8080/"
        },
        "id": "y3Fu7D04WXMT",
        "outputId": "eca601b4-e5e9-4059-9ed3-feff71a67f52"
      },
      "source": [
        "KNmodel = KNeighborsClassifier(n_neighbors = 14)\n",
        "KNmodel.fit(X_train, y_train)"
      ],
      "execution_count": 40,
      "outputs": [
        {
          "output_type": "execute_result",
          "data": {
            "text/plain": [
              "KNeighborsClassifier(algorithm='auto', leaf_size=30, metric='minkowski',\n",
              "                     metric_params=None, n_jobs=None, n_neighbors=14, p=2,\n",
              "                     weights='uniform')"
            ]
          },
          "metadata": {},
          "execution_count": 40
        }
      ]
    },
    {
      "cell_type": "code",
      "metadata": {
        "colab": {
          "base_uri": "https://localhost:8080/"
        },
        "id": "iYc74qCRYjKZ",
        "outputId": "6fc6ee98-812f-47c1-e197-f7ec7b604bc7"
      },
      "source": [
        "results = KNmodel.score(X_train, y_train)\n",
        "results"
      ],
      "execution_count": 41,
      "outputs": [
        {
          "output_type": "execute_result",
          "data": {
            "text/plain": [
              "0.6372440509131156"
            ]
          },
          "metadata": {},
          "execution_count": 41
        }
      ]
    },
    {
      "cell_type": "code",
      "metadata": {
        "colab": {
          "base_uri": "https://localhost:8080/"
        },
        "id": "eeuL_2nTe60c",
        "outputId": "a18a4300-af14-4c75-e9d6-f2b2833e595f"
      },
      "source": [
        "res1 = KNmodel.predict(X_train)\n",
        "res1"
      ],
      "execution_count": 42,
      "outputs": [
        {
          "output_type": "execute_result",
          "data": {
            "text/plain": [
              "array([3., 2., 0., ..., 2., 2., 3.])"
            ]
          },
          "metadata": {},
          "execution_count": 42
        }
      ]
    },
    {
      "cell_type": "code",
      "metadata": {
        "colab": {
          "base_uri": "https://localhost:8080/"
        },
        "id": "A0Febt41bEqa",
        "outputId": "599a0d19-9a70-45b9-9641-7014d351bc03"
      },
      "source": [
        "res2 = KNmodel.predict_proba(X_test)\n",
        "res2.shape"
      ],
      "execution_count": 43,
      "outputs": [
        {
          "output_type": "execute_result",
          "data": {
            "text/plain": [
              "(1808, 5)"
            ]
          },
          "metadata": {},
          "execution_count": 43
        }
      ]
    },
    {
      "cell_type": "markdown",
      "metadata": {
        "id": "vooQe-X8SdQ-"
      },
      "source": [
        "### Get probability that data point belongs to its actual cluster according to model\n",
        "\n",
        "### if probability is less than 10%, flag as potential anomaly"
      ]
    },
    {
      "cell_type": "code",
      "metadata": {
        "id": "rWHPbyigfPO5"
      },
      "source": [
        "prob_of_correct = np.ones((X_test.shape[0],1))\n",
        "\n",
        "for i in range(X_test.shape[0]):\n",
        "  correct_cluster = int(y_test[i])\n",
        "  prob_of_correct[i] = res2[i, correct_cluster]"
      ],
      "execution_count": 45,
      "outputs": []
    },
    {
      "cell_type": "code",
      "metadata": {
        "colab": {
          "base_uri": "https://localhost:8080/"
        },
        "id": "JaCsNRjwgShe",
        "outputId": "8410f18f-3a5f-4f08-9420-b80827ea503a"
      },
      "source": [
        "print(prob_of_correct.shape[0])\n",
        "total = prob_of_correct.shape[0]\n",
        "print(prob_of_correct[prob_of_correct > 0.1].shape[0])\n",
        "condition = prob_of_correct[prob_of_correct > 0.10].shape[0]\n",
        "\n",
        "print(condition/total)"
      ],
      "execution_count": 46,
      "outputs": [
        {
          "output_type": "stream",
          "name": "stdout",
          "text": [
            "1808\n",
            "1544\n",
            "0.8539823008849557\n"
          ]
        }
      ]
    }
  ]
}